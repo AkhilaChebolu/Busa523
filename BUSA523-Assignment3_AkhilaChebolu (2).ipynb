{
 "cells": [
  {
   "cell_type": "markdown",
   "id": "33cacf81",
   "metadata": {},
   "source": [
    "# 1.Create a class to store student records. Each student has a first name, last name, country, overall grade (0 - 4.0 scale), credits completed (total 30) and major.\n",
    "Create a method within this class to evaluate student progress. (20)\n",
    "a. Progress - “Good”: if grades are above 3.0 and credits completed is greater\n",
    "than 20\n",
    "b. Progress - “Average”: if grades are above 2.5 or credits completed is\n",
    "between 10 and 20\n",
    "c. Progress - “Good”: if grades are below 2.5"
   ]
  },
  {
   "cell_type": "code",
   "execution_count": 4,
   "id": "5ade19d0",
   "metadata": {},
   "outputs": [
    {
     "name": "stdout",
     "output_type": "stream",
     "text": [
      "Student records:\n",
      "Progress - “Good”\n",
      "Progress - “Average”\n",
      "Progress - “Average”\n",
      "Progress - “Bad”\n",
      "Progress - “Average”\n"
     ]
    }
   ],
   "source": [
    "class Student:\n",
    "    def __init__(self, firstname, lastname, country, grade, credits, major):\n",
    "        self.firstname = firstname\n",
    "        self.lastname = lastname\n",
    "        self.country = country\n",
    "        self.grade = grade\n",
    "        self.credits = credits\n",
    "        self.major = major\n",
    "\n",
    "    print(\"Student records:\")\n",
    "    def myfunc(self):\n",
    "        \n",
    "        if self.grade > 3.0 and self.credits > 20:\n",
    "            print(\"Progress - “Good”\")\n",
    "        elif (2.5 < self.grade <= 3.0) or (10 < self.credits <= 20):\n",
    "            print(\"Progress - “Average”\")\n",
    "        elif self.grade < 2.5:\n",
    "            print(\"Progress - “Bad”\")\n",
    "        else:\n",
    "            print(\"Contact your teacher\") \n",
    "\n",
    "s1 = Student(\"John\", \"Patel\", \"India\", 4.0, 33, \"BusinessAnalytics\")\n",
    "s2 = Student(\"Aydem\", \"Ercel\", \"Turkey\", 2.9, 8, \"Management\")\n",
    "s3 = Student(\"Yu\", \"Yan\", \"China\", 2.4, 15, \"Sculpture\")\n",
    "s4 = Student(\"Abshir\", \"Hassan \", \"Somalia\", 1.8, 9, \"Petroleum Engineering\")\n",
    "s5 = Student(\"Eun\", \"Seong\", \"Korea\", 3.0, 21, \"CSE\")\n",
    "\n",
    "s1.myfunc()\n",
    "s2.myfunc()\n",
    "s3.myfunc()\n",
    "s4.myfunc()\n",
    "s5.myfunc()\n"
   ]
  },
  {
   "cell_type": "markdown",
   "id": "bbad0132",
   "metadata": {},
   "source": [
    "# 2.Write a function which separates the positive and negative numbers from a list of numbers.\n",
    "Input: [-6, 5, -3, -2, 1, 0, -8, 9, 3] Output: [-6, -3, -2, -8], [5, 1, 9, 3]"
   ]
  },
  {
   "cell_type": "code",
   "execution_count": 2,
   "id": "781e9373",
   "metadata": {},
   "outputs": [
    {
     "name": "stdout",
     "output_type": "stream",
     "text": [
      "Enter the number of values to be added in list: 9\n",
      "Enter the 1 element into list : 3\n",
      "Enter the 2 element into list : -12\n",
      "Enter the 3 element into list : 0\n",
      "Enter the 4 element into list : 18\n",
      "Enter the 5 element into list : 33\n",
      "Enter the 6 element into list : -27\n",
      "Enter the 7 element into list : 10\n",
      "Enter the 8 element into list : -28\n",
      "Enter the 9 element into list : 11\n",
      "[3, 18, 33, 10, 11] , [-12, -27, -28]\n"
     ]
    }
   ],
   "source": [
    "def num_function():\n",
    "    input_list = []\n",
    "    invalid_list = []\n",
    "    positive_list = []\n",
    "    negative_list = []\n",
    "\n",
    "    num = int(input(\"Enter the number of values to be added in list: \"))\n",
    "    b = 0\n",
    "\n",
    "    for a in range(1, num + 1):\n",
    "        val = int(input(\"Enter the %d element into list : \" %a))\n",
    "        input_list.append(val)\n",
    "    \n",
    "    while (b < num):\n",
    "        if(input_list[b] > 0):\n",
    "            positive_list.append(input_list[b])\n",
    "        elif(input_list[b] < 0):\n",
    "            negative_list.append(input_list[b])\n",
    "        else:\n",
    "            invalid_list.append(input_list[b])\n",
    "        b = b + 1\n",
    "    print(positive_list, \",\", negative_list)\n",
    "    \n",
    "num_function()"
   ]
  },
  {
   "cell_type": "markdown",
   "id": "c1cb78fe",
   "metadata": {},
   "source": [
    "# 3.Write a function which outputs all winning possibilities for a given player’s score. \n",
    "Assume the score is always greater than 15 and the dealer is dealt only 2 cards.\n",
    "\n",
    "Input - 18 (player’s final score)\n",
    "Output - [(9,10), (10,11), (10,10), (11,9), (11,8)]\n",
    "\n",
    "Notes:\n",
    "- No need to specify face cards separately, you can use the value “10”\n",
    "- (11,11) is not a winning combination"
   ]
  },
  {
   "cell_type": "code",
   "execution_count": 12,
   "id": "ed7d4313",
   "metadata": {},
   "outputs": [
    {
     "name": "stdout",
     "output_type": "stream",
     "text": [
      "Enter player's final score always greater than 15: 18\n",
      "Welcome to the card's game\n",
      "This is not a winning combination [11, 11]\n",
      "List of all winning possibilities for the input player's score:\n",
      "[[8, 11], [9, 10], [9, 11], [10, 9], [10, 10], [10, 11], [11, 8], [11, 9], [11, 10]]\n"
     ]
    }
   ],
   "source": [
    "def card_game():\n",
    "    \n",
    "    cards = [2,3,4,5,6,7,8,9,10,11]\n",
    "\n",
    "    player_score = int(input(\"Enter player's final score always greater than 15: \"))\n",
    "\n",
    "    output = []\n",
    "    \n",
    "    print(\"Welcome to the card's game\")\n",
    "    \n",
    "    for card1 in cards:\n",
    "        for card2 in cards:\n",
    "            if (card1, card2) == (11, 11):\n",
    "                print(\"This is not a winning combination\", [card1, card2])\n",
    "                continue\n",
    "            if (card1 + card2) > player_score:\n",
    "                if (card1, card2) not in output:\n",
    "                    output.append([card1,card2])\n",
    "                   \n",
    "    print(\"List of all winning possibilities for the input player's score:\")\n",
    "    print(output)\n",
    "\n",
    "card_game()\n"
   ]
  },
  {
   "cell_type": "markdown",
   "id": "d68b9269",
   "metadata": {},
   "source": [
    "# 4.Calculate the number of steps & Big O order for the programs in question 2 and 3. "
   ]
  },
  {
   "cell_type": "code",
   "execution_count": 6,
   "id": "5ab88d73",
   "metadata": {},
   "outputs": [],
   "source": [
    "list_1 = \"firstlist\" # Big-O Notation for 2nd question\n",
    "\n",
    "score_1 = \"player1\" # Big-O Notation for 3rd question"
   ]
  },
  {
   "cell_type": "code",
   "execution_count": 3,
   "id": "049a7395",
   "metadata": {
    "scrolled": true
   },
   "outputs": [
    {
     "name": "stdout",
     "output_type": "stream",
     "text": [
      "Enter the number of values to be added in list: 2\n",
      "Enter the 1 element into list : 6\n",
      "Enter the 2 element into list : -7\n",
      "[6] , [-7]\n",
      "Enter the number of values to be added in list: 3\n",
      "Enter the 1 element into list : 1\n",
      "Enter the 2 element into list : 0\n",
      "Enter the 3 element into list : -1\n",
      "[1] , [-1]\n",
      "Enter the number of values to be added in list: 4\n",
      "Enter the 1 element into list : 2\n",
      "Enter the 2 element into list : -2\n",
      "Enter the 3 element into list : 0\n",
      "Enter the 4 element into list : 5\n",
      "[2, 5] , [-2]\n",
      "Enter the number of values to be added in list: 6\n",
      "Enter the 1 element into list : 8\n",
      "Enter the 2 element into list : 7\n",
      "Enter the 3 element into list : -12\n",
      "Enter the 4 element into list : 0\n",
      "Enter the 5 element into list : 13\n",
      "Enter the 6 element into list : 17\n",
      "[8, 7, 13, 17] , [-12]\n",
      "Enter the number of values to be added in list: 18\n",
      "Enter the 1 element into list : 12\n",
      "Enter the 2 element into list : -13\n",
      "Enter the 3 element into list : -8\n",
      "Enter the 4 element into list : 0\n",
      "Enter the 5 element into list : 7\n",
      "Enter the 6 element into list : 6\n",
      "Enter the 7 element into list : 4\n",
      "Enter the 8 element into list : 3\n",
      "Enter the 9 element into list : 21\n",
      "Enter the 10 element into list : 34\n",
      "Enter the 11 element into list : -12\n",
      "Enter the 12 element into list : -14\n",
      "Enter the 13 element into list : -16\n",
      "Enter the 14 element into list : -19\n",
      "Enter the 15 element into list : 21\n",
      "Enter the 16 element into list : 20\n",
      "Enter the 17 element into list : 32\n",
      "Enter the 18 element into list : -13\n",
      "[12, 7, 6, 4, 3, 21, 34, 21, 20, 32] , [-13, -8, -12, -14, -16, -19, -13]\n",
      "Enter the number of values to be added in list: 9\n",
      "Enter the 1 element into list : 4\n",
      "Enter the 2 element into list : 9\n",
      "Enter the 3 element into list : -3\n",
      "Enter the 4 element into list : 6\n",
      "Enter the 5 element into list : 7\n",
      "Enter the 6 element into list : 1\n",
      "Enter the 7 element into list : 21\n",
      "Enter the 8 element into list : 34\n",
      "Enter the 9 element into list : 58\n",
      "[4, 9, 6, 7, 1, 21, 34, 58] , [-3]\n",
      "Enter the number of values to be added in list: 10\n",
      "Enter the 1 element into list : 3\n",
      "Enter the 2 element into list : 4\n",
      "Enter the 3 element into list : 0\n",
      "Enter the 4 element into list : 2\n",
      "Enter the 5 element into list : 1\n",
      "Enter the 6 element into list : 5\n",
      "Enter the 7 element into list : 23\n",
      "Enter the 8 element into list : -34\n",
      "Enter the 9 element into list : -67\n",
      "Enter the 10 element into list : 30\n",
      "[3, 4, 2, 1, 5, 23, 30] , [-34, -67]\n",
      "Enter the number of values to be added in list: 8\n",
      "Enter the 1 element into list : 3\n",
      "Enter the 2 element into list : 18\n",
      "Enter the 3 element into list : 33\n",
      "Enter the 4 element into list : 0\n",
      "Enter the 5 element into list : -17\n",
      "Enter the 6 element into list : 6\n",
      "Enter the 7 element into list : -24\n",
      "Enter the 8 element into list : -17\n",
      "[3, 18, 33, 6] , [-17, -24, -17]\n",
      "The slowest run took 13.18 times longer than the fastest. This could mean that an intermediate result is being cached.\n",
      "38 s ± 38.3 s per loop (mean ± std. dev. of 7 runs, 1 loop each)\n"
     ]
    }
   ],
   "source": [
    "def num_function(list): \n",
    "    input_list = []\n",
    "    invalid_list = []\n",
    "    positive_list = []\n",
    "    negative_list = []\n",
    "\n",
    "    num = int(input(\"Enter the number of values to be added in list: \"))\n",
    "    b = 0\n",
    "\n",
    "    for a in range(1, num + 1):\n",
    "        val = int(input(\"Enter the %d element into list : \" %a))\n",
    "        input_list.append(val)\n",
    "    \n",
    "    while (b < num):\n",
    "        if(input_list[b] > 0):\n",
    "            positive_list.append(input_list[b])\n",
    "        elif(input_list[b] < 0):\n",
    "            negative_list.append(input_list[b])\n",
    "        else:\n",
    "            invalid_list.append(input_list[b])\n",
    "        b = b + 1\n",
    "    print(positive_list, \",\", negative_list)\n",
    "    \n",
    "%timeit num_function(list_1)"
   ]
  },
  {
   "cell_type": "code",
   "execution_count": 4,
   "id": "30a952a0",
   "metadata": {
    "scrolled": true
   },
   "outputs": [
    {
     "name": "stdout",
     "output_type": "stream",
     "text": [
      "Enter player's final score always greater than 15: 16\n",
      "Welcome to the card's game\n",
      "This is not a winning combination [11, 11]\n",
      "List of all winning possibilities for the input player's score:\n",
      "[[6, 11], [7, 10], [7, 11], [8, 9], [8, 10], [8, 11], [9, 8], [9, 9], [9, 10], [9, 11], [10, 7], [10, 8], [10, 9], [10, 10], [10, 11], [11, 6], [11, 7], [11, 8], [11, 9], [11, 10]]\n",
      "Enter player's final score always greater than 15: 17\n",
      "Welcome to the card's game\n",
      "This is not a winning combination [11, 11]\n",
      "List of all winning possibilities for the input player's score:\n",
      "[[7, 11], [8, 10], [8, 11], [9, 9], [9, 10], [9, 11], [10, 8], [10, 9], [10, 10], [10, 11], [11, 7], [11, 8], [11, 9], [11, 10]]\n",
      "Enter player's final score always greater than 15: 18\n",
      "Welcome to the card's game\n",
      "This is not a winning combination [11, 11]\n",
      "List of all winning possibilities for the input player's score:\n",
      "[[8, 11], [9, 10], [9, 11], [10, 9], [10, 10], [10, 11], [11, 8], [11, 9], [11, 10]]\n",
      "Enter player's final score always greater than 15: 19\n",
      "Welcome to the card's game\n",
      "This is not a winning combination [11, 11]\n",
      "List of all winning possibilities for the input player's score:\n",
      "[[9, 11], [10, 10], [10, 11], [11, 9], [11, 10]]\n",
      "Enter player's final score always greater than 15: 20\n",
      "Welcome to the card's game\n",
      "This is not a winning combination [11, 11]\n",
      "List of all winning possibilities for the input player's score:\n",
      "[[10, 11], [11, 10]]\n",
      "Enter player's final score always greater than 15: 17\n",
      "Welcome to the card's game\n",
      "This is not a winning combination [11, 11]\n",
      "List of all winning possibilities for the input player's score:\n",
      "[[7, 11], [8, 10], [8, 11], [9, 9], [9, 10], [9, 11], [10, 8], [10, 9], [10, 10], [10, 11], [11, 7], [11, 8], [11, 9], [11, 10]]\n",
      "Enter player's final score always greater than 15: 19\n",
      "Welcome to the card's game\n",
      "This is not a winning combination [11, 11]\n",
      "List of all winning possibilities for the input player's score:\n",
      "[[9, 11], [10, 10], [10, 11], [11, 9], [11, 10]]\n",
      "Enter player's final score always greater than 15: 18\n",
      "Welcome to the card's game\n",
      "This is not a winning combination [11, 11]\n",
      "List of all winning possibilities for the input player's score:\n",
      "[[8, 11], [9, 10], [9, 11], [10, 9], [10, 10], [10, 11], [11, 8], [11, 9], [11, 10]]\n",
      "The slowest run took 6.49 times longer than the fastest. This could mean that an intermediate result is being cached.\n",
      "2.41 s ± 1.99 s per loop (mean ± std. dev. of 7 runs, 1 loop each)\n"
     ]
    }
   ],
   "source": [
    "def card_game(score):\n",
    "    \n",
    "    cards = [2,3,4,5,6,7,8,9,10,11]\n",
    "\n",
    "    player_score = int(input(\"Enter player's final score always greater than 15: \"))\n",
    "\n",
    "    output = []\n",
    "    \n",
    "    print(\"Welcome to the card's game\")\n",
    "\n",
    "    for card1 in cards:\n",
    "        for card2 in cards:\n",
    "            if (card1, card2) == (11, 11):\n",
    "                print(\"This is not a winning combination\", [card1, card2])\n",
    "                continue\n",
    "            if (card1 + card2) > player_score:\n",
    "                if (card1, card2) not in output:\n",
    "                    output.append([card1,card2])\n",
    "                   \n",
    "    print(\"List of all winning possibilities for the input player's score:\")\n",
    "    print(output)\n",
    "    \n",
    "%timeit card_game(score_1)\n"
   ]
  },
  {
   "cell_type": "code",
   "execution_count": null,
   "id": "91b05075",
   "metadata": {},
   "outputs": [],
   "source": []
  }
 ],
 "metadata": {
  "kernelspec": {
   "display_name": "Python 3 (ipykernel)",
   "language": "python",
   "name": "python3"
  },
  "language_info": {
   "codemirror_mode": {
    "name": "ipython",
    "version": 3
   },
   "file_extension": ".py",
   "mimetype": "text/x-python",
   "name": "python",
   "nbconvert_exporter": "python",
   "pygments_lexer": "ipython3",
   "version": "3.9.7"
  }
 },
 "nbformat": 4,
 "nbformat_minor": 5
}
